{
  "nbformat": 4,
  "nbformat_minor": 0,
  "metadata": {
    "colab": {
      "name": "Sra 268 lab2",
      "provenance": [],
      "toc_visible": true,
      "authorship_tag": "ABX9TyPDnxRCvLlGV0rVpnVMOHfq",
      "include_colab_link": true
    },
    "kernelspec": {
      "name": "python3",
      "display_name": "Python 3"
    }
  },
  "cells": [
    {
      "cell_type": "markdown",
      "metadata": {
        "id": "view-in-github",
        "colab_type": "text"
      },
      "source": [
        "<a href=\"https://colab.research.google.com/github/kvf2222/Sra-268-lab-1/blob/master/Sra_268_lab2.ipynb\" target=\"_parent\"><img src=\"https://colab.research.google.com/assets/colab-badge.svg\" alt=\"Open In Colab\"/></a>"
      ]
    },
    {
      "cell_type": "code",
      "metadata": {
        "id": "RVxl-krxYRkT",
        "colab_type": "code",
        "colab": {}
      },
      "source": [
        "\n"
      ],
      "execution_count": 0,
      "outputs": []
    },
    {
      "cell_type": "markdown",
      "metadata": {
        "id": "lEEO-5S8Cj3e",
        "colab_type": "text"
      },
      "source": [
        ""
      ]
    },
    {
      "cell_type": "markdown",
      "metadata": {
        "id": "QeuB_kMf1C5F",
        "colab_type": "text"
      },
      "source": [
        "# Sra 268 lab 1"
      ]
    },
    {
      "cell_type": "markdown",
      "metadata": {
        "id": "pYm2D2tT1nzE",
        "colab_type": "text"
      },
      "source": [
        "## DESCRIPTION:\n",
        " The data from the NOAA provided information on amounts of precipitation and  snowfall, as well as temperature minimums and maximums in State College, PA.  I decided to collect sample data on the maximum temperature on June 4 during a three year span from 2017 to 2019. I chose this date since it is my birthday. I am also curious about global warming and thought it would be interesting to see if there is a temperat\n"
      ]
    },
    {
      "cell_type": "markdown",
      "metadata": {
        "id": "urxdmaJEQjIv",
        "colab_type": "text"
      },
      "source": [
        "![alt text](https://raw.githubusercontent.com/kvf2222/Sra-268-lab-1/master/folder/SRA%20268.png)"
      ]
    },
    {
      "cell_type": "markdown",
      "metadata": {
        "id": "D87vSV-OQrr4",
        "colab_type": "text"
      },
      "source": [
        "# CONCLUSION: \n",
        "The data from the NOAA in State College, PA showed that there was not much difference in temperature maximums on June 4 during the three year span from 2017 to 2019. On June 4, 2017, the temperature was 75 degrees maximum, and actually the highest of the three years. Data on June 4, 2018, and June 4, 2019 showed the same maximum temperature of 63 degrees fahrenheit. This is actually a decrease of 12 degrees from 2017 to 2018. My sample data did not show signs of global warming. \n"
      ]
    }
  ]
}